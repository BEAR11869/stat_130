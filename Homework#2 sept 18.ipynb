{
 "cells": [
  {
   "cell_type": "code",
   "execution_count": 2,
   "id": "374e4f7e",
   "metadata": {},
   "outputs": [
    {
     "data": {
      "text/plain": [
       "0.66566"
      ]
     },
     "execution_count": 2,
     "metadata": {},
     "output_type": "execute_result"
    }
   ],
   "source": [
    "#1\n",
    "\n",
    "import numpy as np\n",
    "all_door_options = (1,2,3)  # tuple\n",
    "my_door_choice = 1  # 1,2,3\n",
    "i_won = 0\n",
    "reps = 100000\n",
    "for i in range(reps):\n",
    "    secret_winning_door = np.random.choice(all_door_options)\n",
    "    all_door_options_list = list(all_door_options)\n",
    "    # take the secret_winning_door, so we don't show it as a \"goat\" losing door\n",
    "    all_door_options_list.remove(secret_winning_door)\n",
    "    try:\n",
    "        # if my_door_choice was secret_winning_door then it's already removed\n",
    "        all_door_options_list.remove(my_door_choice)\n",
    "    except:\n",
    "        pass\n",
    "    # show a \"goat\" losing door and remove it\n",
    "    goat_door_reveal = np.random.choice(all_door_options_list)\n",
    "    all_door_options_list.remove(goat_door_reveal)\n",
    "\n",
    "    # put the secret_winning_door back in if it wasn't our choice\n",
    "    # we previously removed it, so it would be shown as a  \"goat\" losing door\n",
    "    if secret_winning_door != my_door_choice:\n",
    "        all_door_options_list.append(secret_winning_door)\n",
    "    # if secret_winning_door was our choice then all that's left in the list is a \"goat\" losing door\n",
    "    # if secret_winning_door wasn't our choice then it's all that will be left in the list\n",
    "\n",
    "    # swap strategy\n",
    "    my_door_choice = all_door_options_list[0]\n",
    "\n",
    "    if my_door_choice == secret_winning_door:\n",
    "        i_won += 1\n",
    "\n",
    "i_won/reps"
   ]
  },
  {
   "cell_type": "markdown",
   "id": "ddb72bca",
   "metadata": {},
   "source": [
    "# explanation \n",
    "all_door_options: represents the three doors.\n",
    "my_door_choice: starts with door 1.\n",
    "i_won: counts the number of times you win the prize.\n",
    "reps: specifies the number of repetitions for the simulation (100,000 times).\n",
    "\n",
    "\n",
    "secret_winning_door: randomly selects which door has the prize.\n",
    "all_door_options_list converts the tuple of doors to a list for easy manipulation.\n",
    "\n",
    "all_door_options_list.remove(secret_winning_door) removes the winning door from the list, so it's not accidentally shown as a goat.\n",
    "The try block removes my_door_choice from the list if it's not the winning door. If my_door_choice is the winning door, it would already be removed by the previous line, so the except block ignores the error\n",
    "\n",
    "The code reveals a \"goat\" door from the remaining options.\n",
    "goat_door_reveal is randomly selected from the list of remaining doors and then removed.\n",
    "\n",
    "If your initial choice wasn't the winning door, the winning door is added back to the list.\n",
    "This step ensures that you have the option to switch to the winning door if it wasn't your initial choice.\n",
    "\n",
    "my_door_choice = all_door_options_list[0] sets your final choice to the only door left in the list.\n",
    "If this door is the winning door, you win, and i_won is incremented by 1."
   ]
  },
  {
   "cell_type": "code",
   "execution_count": 4,
   "id": "cdad33fc",
   "metadata": {},
   "outputs": [
    {
     "name": "stdout",
     "output_type": "stream",
     "text": [
      "0.66513\n"
     ]
    }
   ],
   "source": [
    "#2\n",
    "\n",
    "import numpy as np\n",
    "\n",
    "all_door_options = (1, 2, 3)  # tuple of doors\n",
    "i_won = 0\n",
    "reps = 100000  # number of simulations\n",
    "\n",
    "for _ in range(reps):\n",
    "    secret_winning_door = np.random.choice(all_door_options)  # Randomly assign the prize door\n",
    "    my_door_choice = np.random.choice(all_door_options)  # Randomly choose a door initially\n",
    "\n",
    "    # Simulate the host revealing a goat door (not the winning door or the player's initial choice)\n",
    "    remaining_doors = [door for door in all_door_options if door != my_door_choice and door != secret_winning_door]\n",
    "    host_reveal = np.random.choice(remaining_doors)\n",
    "\n",
    "    # Switch to the remaining door that was not initially chosen and not revealed\n",
    "    switch_choice = next(door for door in all_door_options if door != my_door_choice and door != host_reveal)\n",
    "\n",
    "    # Check if the switch_choice is the winning door\n",
    "    if switch_choice == secret_winning_door:\n",
    "        i_won += 1\n",
    "\n",
    "# Calculate and print the probability of winning by switching\n",
    "print(i_won / reps)"
   ]
  },
  {
   "cell_type": "code",
   "execution_count": null,
   "id": "e585dbd6",
   "metadata": {},
   "outputs": [],
   "source": []
  },
  {
   "cell_type": "markdown",
   "id": "014d6707",
   "metadata": {},
   "source": [
    "# difference in code\n",
    "\n",
    "We define the doors as (1, 2, 3).\n",
    "i_won is used to count how many times the player wins when switching doors.\n",
    "reps is the number of simulations (100,000 in this case).\n",
    "\n",
    "We run the simulation reps times.\n",
    "secret_winning_door randomly selects the door with the prize.\n",
    "my_door_choice randomly selects the player's initial door choice.\n",
    "\n",
    "The host reveals a door with a goat, which isn't the winning door or the player's initial choice. This is determined by filtering the all_door_options list to exclude my_door_choice and secret_winning_door\n",
    "\n",
    "switch_choice is set to the door that was neither the initial choice nor the host's reveal, effectively implementing the switching strategy.\n",
    "\n",
    "If switch_choice matches the secret_winning_door, the player wins, and i_won is incremented."
   ]
  },
  {
   "cell_type": "code",
   "execution_count": null,
   "id": "010be272",
   "metadata": {},
   "outputs": [],
   "source": [
    "#3\n",
    "import numpy as np\n",
    "\n",
    "wins = 0\n",
    "reps = 100000\n",
    "\n",
    "for _ in range(reps):\n",
    "    # Randomly choose winning door and player's initial choice\n",
    "    winning_door = np.random.randint(1, 4)\n",
    "    initial_choice = np.random.randint(1, 4)\n",
    "\n",
    "    # If initial choice is not the winning door, player wins by switching\n",
    "    if initial_choice != winning_door:\n",
    "        wins += 1\n",
    "\n",
    "# Calculate the probability of winning by switching\n",
    "print(wins / reps)"
   ]
  },
  {
   "cell_type": "markdown",
   "id": "b003a615",
   "metadata": {},
   "source": [
    "Initialization:\n",
    "\n",
    "    wins counts the number of times the player wins by switching.\n",
    "    reps is the number of times we run the simulation (100,000 times).\n",
    "\n",
    "For Loop:\n",
    "\n",
    "    winning_door is randomly selected from doors 1, 2, or 3.\n",
    "    initial_choice is also randomly selected from doors 1, 2, or 3.\n",
    "\n",
    "Switch Strategy:\n",
    "\n",
    "    If the player's initial choice is not the winning door, they would win by switching.\n",
    "    The player wins when initial_choice != winning_door, so we increment wins by 1 in this case.\n",
    "\n",
    "Probability Calculation:\n",
    "\n",
    "    After the loop, the winning probability when always switching is calculated by dividing wins by reps."
   ]
  },
  {
   "cell_type": "markdown",
   "id": "4494671a",
   "metadata": {},
   "source": [
    "#4\n",
    "\n",
    "Training Data:\n",
    "\n",
    "    The training_data variable contains a list of sentences, which the chatbot will use to learn how to generate responses.\n",
    "\n",
    "Markov Chain Model:\n",
    "\n",
    "    The markov_chain dictionary is the core of the Markov model. It stores each word as a key, with the corresponding value being a list of words that can follow it based on the training data.\n",
    "    For example, if the training data includes the sentence \"Hello, how are you?\", then the chain might look like:\n",
    "    \n",
    "Building the Markov Chain:\n",
    "\n",
    "    The build_markov_chain(data) function iterates over each sentence in the training data.\n",
    "    For each sentence, it splits the sentence into words.\n",
    "    It then loops through the words, and for each word, it adds the following word to that word's list in the markov_chain dictionary.\n",
    "    If a word is not already a key in the dictionary, it initializes it with an empty list.\n",
    "\n",
    "Generating Text:\n",
    "\n",
    "    The generate_text(chain, length) function generates a sequence of words using the Markov chain.\n",
    "    It starts with a random word from the keys of the Markov chain.\n",
    "    It then appends this word to the result list and looks up the next word by randomly choosing from the list of possible following words in the chain.\n",
    "    This process continues until it reaches the desired length of the response or there are no further words in the chain.\n",
    "\n",
    "Output:\n",
    "\n",
    "    The generated response is then printed."
   ]
  },
  {
   "cell_type": "markdown",
   "id": "2c7a8ab7",
   "metadata": {},
   "source": [
    "#5\n",
    "Character-Level Predictions:\n",
    "\n",
    "Instead of generating text by predicting the next word, a character-specific Markov chain generates text by predicting the next character based on the current one (or a sequence of previous characters).\n",
    "\n",
    "bigrams\n",
    "\n",
    "Instead of just predicting the next word based on a single word (unigram), the next word is predicted based on the previous two words (bigram). This helps preserve the flow of language better because it takes into account more of the sentence structure.For example, if you are generating text and have \"I am\", the next word prediction might be more accurate because it can consider \"I am\" together rather than just \"am.\"\n",
    "\n",
    "example of bigrams in codes:"
   ]
  },
  {
   "cell_type": "code",
   "execution_count": null,
   "id": "82253c60",
   "metadata": {},
   "outputs": [],
   "source": [
    "def generate_response(chain, length=10):\n",
    "    # Start with a random bigram (pair of words)\n",
    "    bigram = random.choice(list(chain.keys()))\n",
    "    response = [bigram[0], bigram[1]]  # Initialize response with the bigram\n",
    "      for _ in range(length - 2):\n",
    "        if bigram in chain and chain[bigram]:\n",
    "            next_word = random.choice(chain[bigram])\n",
    "            response.append(next_word)\n",
    "            # Shift the bigram window: Use the second word of the previous bigram and the new word\n",
    "            bigram = (bigram[1], next_word)\n",
    "        else:\n",
    "            break\n",
    "    return ' '.join(response)\n",
    "\n",
    "# Build and generate bigram-based text\n",
    "response = generate_response(markov_chain, length=10)\n",
    "print(response)"
   ]
  },
  {
   "cell_type": "markdown",
   "id": "dcc66376",
   "metadata": {},
   "source": [
    "#6\n",
    "\n",
    "1. I use the premium version of chat Gpt. It works very well when it comes to giving me fast detailed responses and programs. It gave me the markovian code in different versions. Once I asked for a very detailed one and a more simplified one so that I can use it for my answer. Same with the monte hall code it gave me both versions that I wanted flawlessly. \n",
    "\n",
    "2. Chat bot doesnt always help. Theres a lot of trial and error when it comes to using ai. They dont always give you want right away, but with practice and explaining and describing what you want specifically you will eventually get the correct answer to your question.\n",
    "\n",
    "3. hat bots are like our own personal tutors. They really do help ypu out if you know how to properly ask it. They dont work 100% of the time but they help with a lot. They can give you a custom image graph of anything and are very good at doig tedious things that humans are less efficient at doing. they can analyze data faster. create code in seconds. etc"
   ]
  },
  {
   "cell_type": "markdown",
   "id": "0ec10141",
   "metadata": {},
   "source": [
    "#7\n",
    "\n",
    "I have a lot of success in the past using chat gpt. I dont use it to learn for me but instead as a tool for me to help me learn new concepts. I also use it for tasks that im not effiecient in. Like analyzing text fast to find sentences or such that I need.  My perception on ai has made me think a lot about the future. A lot of the jobs that once humans did would be taken over AI. soon they will make it very intelligent with almost 0% room for error. it will help us learn, do jobs for us etc. "
   ]
  },
  {
   "cell_type": "markdown",
   "id": "6b048250",
   "metadata": {},
   "source": [
    "chat log#2 \n",
    "https://docs.google.com/document/d/1bnHUtUO0w4MHWjd4ayENrizn60PJtpkGGP6jv1AjDxo/edit?usp=sharing"
   ]
  },
  {
   "cell_type": "code",
   "execution_count": null,
   "id": "c03a82db",
   "metadata": {},
   "outputs": [],
   "source": []
  },
  {
   "cell_type": "code",
   "execution_count": null,
   "id": "d3544fed",
   "metadata": {},
   "outputs": [],
   "source": []
  },
  {
   "cell_type": "code",
   "execution_count": null,
   "id": "22545af4",
   "metadata": {},
   "outputs": [],
   "source": []
  },
  {
   "cell_type": "code",
   "execution_count": null,
   "id": "8d916f5d",
   "metadata": {},
   "outputs": [],
   "source": []
  },
  {
   "cell_type": "code",
   "execution_count": null,
   "id": "a8762f96",
   "metadata": {},
   "outputs": [],
   "source": []
  },
  {
   "cell_type": "code",
   "execution_count": null,
   "id": "aa539bf5",
   "metadata": {},
   "outputs": [],
   "source": []
  },
  {
   "cell_type": "code",
   "execution_count": null,
   "id": "7a0e03e7",
   "metadata": {},
   "outputs": [],
   "source": []
  },
  {
   "cell_type": "code",
   "execution_count": null,
   "id": "e06321bd",
   "metadata": {},
   "outputs": [],
   "source": []
  },
  {
   "cell_type": "code",
   "execution_count": null,
   "id": "2fc09fee",
   "metadata": {},
   "outputs": [],
   "source": []
  },
  {
   "cell_type": "code",
   "execution_count": null,
   "id": "07c1906e",
   "metadata": {},
   "outputs": [],
   "source": []
  },
  {
   "cell_type": "code",
   "execution_count": null,
   "id": "d10ce715",
   "metadata": {},
   "outputs": [],
   "source": []
  },
  {
   "cell_type": "code",
   "execution_count": null,
   "id": "17e03a67",
   "metadata": {},
   "outputs": [],
   "source": []
  },
  {
   "cell_type": "code",
   "execution_count": null,
   "id": "50820282",
   "metadata": {},
   "outputs": [],
   "source": []
  },
  {
   "cell_type": "code",
   "execution_count": null,
   "id": "aa6f42d0",
   "metadata": {},
   "outputs": [],
   "source": []
  }
 ],
 "metadata": {
  "kernelspec": {
   "display_name": "Python 3 (ipykernel)",
   "language": "python",
   "name": "python3"
  },
  "language_info": {
   "codemirror_mode": {
    "name": "ipython",
    "version": 3
   },
   "file_extension": ".py",
   "mimetype": "text/x-python",
   "name": "python",
   "nbconvert_exporter": "python",
   "pygments_lexer": "ipython3",
   "version": "3.11.6"
  }
 },
 "nbformat": 4,
 "nbformat_minor": 5
}
